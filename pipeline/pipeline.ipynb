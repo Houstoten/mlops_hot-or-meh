{
 "cells": [
  {
   "cell_type": "code",
   "execution_count": 560,
   "id": "2c0c366d-0a62-4a06-9f58-0a3720095ecd",
   "metadata": {},
   "outputs": [],
   "source": [
    "import sagemaker\n",
    "import boto3\n",
    "import json\n",
    "import time\n",
    "from sagemaker.workflow.pipeline_context import PipelineSession\n",
    "from sagemaker.sklearn.processing import SKLearnProcessor\n",
    "from sagemaker.processing import FrameworkProcessor\n",
    "from sagemaker.processing import ProcessingInput, ProcessingOutput\n",
    "from sagemaker.inputs import TrainingInput\n",
    "from sagemaker.workflow.steps import (\n",
    "    ProcessingStep,\n",
    "    TrainingStep,\n",
    ")\n",
    "from sagemaker.pytorch.estimator import PyTorch\n",
    "from sagemaker.workflow.parameters import ParameterString\n",
    "from sagemaker.workflow.pipeline_context import PipelineSession\n",
    "from sagemaker.workflow.pipeline_definition_config import PipelineDefinitionConfig\n",
    "from sagemaker.workflow.pipeline import Pipeline\n",
    "from sagemaker.workflow.properties import PropertyFile\n",
    "from sagemaker.model_metrics import MetricsSource, ModelMetrics \n",
    "from sagemaker.workflow.step_collections import RegisterModel\n",
    "from sagemaker.workflow.conditions import ConditionGreaterThanOrEqualTo\n",
    "from sagemaker.workflow.condition_step import ConditionStep\n",
    "from sagemaker.workflow.model_step import ModelStep\n",
    "from sagemaker.model import Model\n",
    "from sagemaker import ModelPackage\n",
    "from sagemaker.workflow.conditions import ConditionGreaterThanOrEqualTo\n",
    "from sagemaker.workflow.condition_step import ConditionStep\n",
    "from sagemaker.workflow.functions import JsonGet\n",
    "from sagemaker.serializers import JSONSerializer\n",
    "from sagemaker.deserializers import JSONDeserializer"
   ]
  },
  {
   "cell_type": "code",
   "execution_count": 184,
   "id": "7415e078-dbc3-4e9e-80e2-b2ff9c7f5a80",
   "metadata": {},
   "outputs": [],
   "source": [
    "role = sagemaker.get_execution_role()\n",
    "sagemaker_session = sagemaker.session.Session()\n",
    "default_bucket = sagemaker_session.default_bucket()\n",
    "region =  boto3.Session().region_name\n",
    "pipeline_session = PipelineSession()"
   ]
  },
  {
   "cell_type": "code",
   "execution_count": 164,
   "id": "96ee2d74-519d-441c-b5d0-ad4af6d0cea8",
   "metadata": {},
   "outputs": [],
   "source": [
    "BUCKET_NAME = 'mlops-hot-or-meh2'\n",
    "DATA_KEY = 'ProductHuntProducts.csv'\n",
    "DATASET_PATH = f\"s3://{BUCKET_NAME}/{DATA_KEY}\"\n",
    "# ENCODERS_FOLDER = f\"encoders\"\n",
    "# TRACKING_SERVER_ARN='arn:aws:sagemaker:eu-north-1:381492095903:mlflow-tracking-server/letterboxd-predictions'\n",
    "# EXPERIMENT_NAME = 'letterboxd-predictions-lr'\n",
    "# MODEL_PACKAGE_GROUP_NAME = \"LetterboxdRartingPredictions\"\n",
    "# MODEL_NAME_PREFIX = \"LLR\"\n",
    "# SKLEARN_FRAMEWORK_VERSION='1.2-1'"
   ]
  },
  {
   "cell_type": "code",
   "execution_count": 472,
   "id": "558a2256-7f7c-4a51-836e-b41ecb21e1a1",
   "metadata": {},
   "outputs": [],
   "source": [
    "# s3 = boto3.resource('s3')\n",
    "# bucket = s3.Bucket(BUCKET_NAME)\n",
    "# for object_summary in bucket.objects.filter():\n",
    "#     print(object_summary)\n"
   ]
  },
  {
   "cell_type": "markdown",
   "id": "6779d0f9-1420-4540-9062-5224b0d22892",
   "metadata": {},
   "source": [
    "### Preprocessing"
   ]
  },
  {
   "cell_type": "code",
   "execution_count": 523,
   "id": "7934ead8-afb7-47c6-b515-127dd9942510",
   "metadata": {},
   "outputs": [],
   "source": [
    "est_cls = sagemaker.sklearn.estimator.SKLearn\n",
    "\n",
    "sklearn_processor = FrameworkProcessor(\n",
    "    framework_version=\"1.2-1\",\n",
    "    role=role,\n",
    "    estimator_cls=est_cls,\n",
    "    instance_type=\"ml.t3.xlarge\",\n",
    "    instance_count=1,\n",
    "    base_job_name='viralhunt-preprocess',\n",
    "    sagemaker_session=pipeline_session\n",
    ")\n"
   ]
  },
  {
   "cell_type": "code",
   "execution_count": 524,
   "id": "ed6f997f-d355-41f9-9de1-7b6292b70d93",
   "metadata": {},
   "outputs": [
    {
     "name": "stderr",
     "output_type": "stream",
     "text": [
      "/opt/conda/lib/python3.10/site-packages/sagemaker/workflow/pipeline_context.py:332: UserWarning: Running within a PipelineSession, there will be No Wait, No Logs, and No Job being started.\n",
      "  warnings.warn(\n"
     ]
    }
   ],
   "source": [
    "#Run the processing job\n",
    "processor_args = sklearn_processor.run(\n",
    "    code='processing.py',\n",
    "    source_dir='scripts/process',\n",
    "    arguments=['--train-test-split-ratio', '0.2'],\n",
    "    inputs=[\n",
    "        ProcessingInput(\n",
    "            source=f's3://{BUCKET_NAME}/{DATA_KEY}',\n",
    "            destination='/opt/ml/processing/input'\n",
    "        ),\n",
    "        ProcessingInput(\n",
    "            source=f's3://{BUCKET_NAME}/utils/',\n",
    "            destination='/opt/ml/processing/utils/'\n",
    "        )\n",
    "    ],\n",
    "    outputs=[\n",
    "        # ProcessingOutput(output_name='data_structured', source='/opt/ml/processing/tmp/data_structured', destination=f's3://{BUCKET_NAME}/preprocessing'),\n",
    "        # ProcessingOutput(output_name='train', source='/opt/ml/processing/output/train', destination=f's3://{BUCKET_NAME}/preprocessing'),\n",
    "        # ProcessingOutput(output_name='validation', source='/opt/ml/processing/output/val', destination=f's3://{BUCKET_NAME}/preprocessing'),\n",
    "        # ProcessingOutput(output_name='test', source='/opt/ml/processing/output/test', destination=f's3://{BUCKET_NAME}/preprocessing'),\n",
    "        ProcessingOutput(output_name='train', source='/opt/ml/processing/split/train', destination=f's3://{BUCKET_NAME}/preprocessing/train'),\n",
    "        ProcessingOutput(output_name='test', source='/opt/ml/processing/split/test', destination=f's3://{BUCKET_NAME}/preprocessing/test')\n",
    "    ]\n",
    ")\n",
    "\n",
    "step_process = ProcessingStep(\n",
    "    name=\"Preprocess\",\n",
    "    step_args=processor_args\n",
    ")"
   ]
  },
  {
   "cell_type": "markdown",
   "id": "dfadc904-d898-4f66-b359-dc0e673d27e5",
   "metadata": {},
   "source": [
    "### Train"
   ]
  },
  {
   "cell_type": "code",
   "execution_count": 525,
   "id": "09cddd4c-9a0d-41bf-86a1-94d0aa6972ca",
   "metadata": {},
   "outputs": [],
   "source": [
    "# model_path = f's3://{default_bucket}/LetterboxdTrain'\n",
    "\n",
    "pytorch_estimator = PyTorch(\n",
    "    entry_point='training.py',\n",
    "    source_dir='scripts/train',\n",
    "    output_path=f's3://{BUCKET_NAME}/models',\n",
    "    # entry_point=\"scripts/training.py\",\n",
    "    framework_version=\"2.3.0\",\n",
    "    py_version=\"py311\",\n",
    "    instance_type=\"ml.g4dn.xlarge\",\n",
    "    instance_count=1,\n",
    "    role=role,\n",
    "    sagemaker_session=pipeline_session,\n",
    ")\n",
    "train_args = pytorch_estimator.fit({\"train\": step_process.properties.ProcessingOutputConfig.Outputs[\n",
    "    \"train\"\n",
    "].S3Output.S3Uri})\n",
    "\n",
    "# train_args = pytorch_estimator.fit({\"train\": TrainingInput(\n",
    "#             s3_data=f's3://{BUCKET_NAME}/preprocessing/train',\n",
    "#         )\n",
    "#     })\n",
    "\n",
    "step_train = TrainingStep(\n",
    "    name=\"Training\",\n",
    "    step_args = train_args\n",
    ")"
   ]
  },
  {
   "cell_type": "markdown",
   "id": "bcc3e4aa-4e06-490f-bfdf-984039e82fb9",
   "metadata": {},
   "source": [
    "### Evaluation"
   ]
  },
  {
   "cell_type": "code",
   "execution_count": 526,
   "id": "c2b71569-419d-4007-84d6-b284395ab11f",
   "metadata": {},
   "outputs": [
    {
     "name": "stderr",
     "output_type": "stream",
     "text": [
      "INFO:sagemaker.image_uris:image_uri is not presented, retrieving image_uri based on instance_type, framework etc.\n"
     ]
    }
   ],
   "source": [
    "est_cls = sagemaker.pytorch.estimator.PyTorch\n",
    "\n",
    "script_processor = FrameworkProcessor(\n",
    "    role=role,\n",
    "    instance_count=1,\n",
    "    instance_type=\"ml.t3.xlarge\",\n",
    "    estimator_cls=est_cls,\n",
    "    framework_version=\"2.3.0\",\n",
    "    py_version=\"py311\",\n",
    "    sagemaker_session=pipeline_session\n",
    ")\n",
    "evaluation_report = PropertyFile(\n",
    "    name=\"EvaluationReport\",\n",
    "    output_name=\"evaluation\",\n",
    "    path=\"evaluation.json\"\n",
    ")\n",
    "eval_args = script_processor.run(\n",
    "    code='evaluate.py',\n",
    "    source_dir='scripts/evaluate',\n",
    "    inputs=[\n",
    "        # ProcessingInput(source='s3://mlops-hot-or-meh2/models/pytorch-training-pdkxbehrs410-WxpgkQd1uU/output', destination=\"/opt/ml/processing/model\"),\n",
    "        # ProcessingInput(source=f's3://{BUCKET_NAME}/preprocessing/test', destination=\"/opt/ml/processing/test\"),\n",
    "\n",
    "        ProcessingInput(source=step_train.properties.ModelArtifacts.S3ModelArtifacts, destination=\"/opt/ml/processing/model\"),\n",
    "        ProcessingInput(source=step_process.properties.ProcessingOutputConfig.Outputs[\n",
    "                \"test\"\n",
    "            ].S3Output.S3Uri, destination=\"/opt/ml/processing/test\"),\n",
    "    ],\n",
    "    outputs=[ProcessingOutput(output_name=\"evaluation\", source=\"/opt/ml/processing/evaluation\")],\n",
    ")\n",
    "\n",
    "step_eval = ProcessingStep(\n",
    "    name=\"Evaluate\",\n",
    "    step_args=eval_args,\n",
    "    property_files=[evaluation_report],\n",
    ")"
   ]
  },
  {
   "cell_type": "markdown",
   "id": "0815496b-7e00-4334-bf7f-ebb615b07a0b",
   "metadata": {},
   "source": [
    "### Register model"
   ]
  },
  {
   "cell_type": "code",
   "execution_count": 575,
   "id": "78a986b9-8c3d-41ff-9392-472aac7efad9",
   "metadata": {},
   "outputs": [
    {
     "name": "stderr",
     "output_type": "stream",
     "text": [
      "INFO:sagemaker.processing:Uploaded scripts/evaluate to s3://sagemaker-us-east-2-471112582765/pytorch-2024-07-24-08-13-43-165/source/sourcedir.tar.gz\n",
      "INFO:sagemaker.processing:runproc.sh uploaded to s3://sagemaker-us-east-2-471112582765/pytorch-2024-07-24-08-13-43-165/source/runproc.sh\n",
      "/opt/conda/lib/python3.10/site-packages/sagemaker/workflow/pipeline_context.py:332: UserWarning: Running within a PipelineSession, there will be No Wait, No Logs, and No Job being started.\n",
      "  warnings.warn(\n",
      "WARNING:sagemaker.workflow.utilities:Popping out 'ProcessingJobName' from the pipeline definition by default since it will be overridden at pipeline execution time. Please utilize the PipelineDefinitionConfig to persist this field in the pipeline definition if desired.\n",
      "INFO:sagemaker:Repacking model artifact (s3://sagemaker-us-east-2-471112582765/pytorch-inference-2024-07-24-06-47-05-473/Register-RepackModel-0-0359cce0ceb40236-lb5xkf3a04bf-bzm2I2VfMb/output/model.tar.gz), script artifact (scripts/inference), and dependencies ([]) into single tar.gz file located at s3://sagemaker-us-east-2-471112582765/pytorch-inference-2024-07-24-08-13-43-355/model.tar.gz. This may take some time depending on model size...\n"
     ]
    }
   ],
   "source": [
    "model = sagemaker.pytorch.model.PyTorchModel(\n",
    "    entry_point='inference.py',\n",
    "    source_dir='scripts/inference',\n",
    "    model_data=step_train.properties.ModelArtifacts.S3ModelArtifacts,\n",
    "    #model_data='s3://sagemaker-us-east-2-471112582765/pytorch-inference-2024-07-24-06-47-05-473/Register-RepackModel-0-0359cce0ceb40236-lb5xkf3a04bf-bzm2I2VfMb/output/model.tar.gz',\n",
    "    framework_version=\"2.3.0\",\n",
    "    py_version=\"py311\",\n",
    "    role=role,\n",
    "    sagemaker_session=pipeline_session,\n",
    ")\n",
    "\n",
    "model_metrics = ModelMetrics(\n",
    "    model_statistics=MetricsSource(\n",
    "        s3_uri=\"{}/evaluation.json\".format(\n",
    "            step_eval.arguments[\"ProcessingOutputConfig\"][\"Outputs\"][0][\"S3Output\"][\"S3Uri\"]\n",
    "        ),\n",
    "        content_type=\"application/json\"\n",
    "    )\n",
    ")\n",
    "register_model_step_args = model.register(\n",
    "    content_types=[\"application/json\"],\n",
    "    response_types=[\"application/json\"],\n",
    "    inference_instances=[\"ml.t2.medium\", \"ml.m5.xlarge\"],\n",
    "    transform_instances=[\"ml.m5.xlarge\"],\n",
    "    model_package_group_name='ViralHuntPredictions',\n",
    "    approval_status='Approved',\n",
    "    model_metrics=model_metrics\n",
    ")\n",
    "\n",
    "step_register = ModelStep(\n",
    "   name=\"Register\",\n",
    "   step_args=register_model_step_args,\n",
    ")"
   ]
  },
  {
   "cell_type": "markdown",
   "id": "e9d302cc-88b4-4cbf-b4b9-7f45d3f30318",
   "metadata": {},
   "source": [
    "### R2 condition"
   ]
  },
  {
   "cell_type": "code",
   "execution_count": 551,
   "id": "5a418759-32da-46cc-a4f0-bf63d4a2b8b1",
   "metadata": {},
   "outputs": [],
   "source": [
    "cond_ge = ConditionGreaterThanOrEqualTo(\n",
    "    left=JsonGet(\n",
    "        step_name=step_eval.name,\n",
    "        property_file=evaluation_report,\n",
    "        json_path=\"r2_score\"\n",
    "    ),\n",
    "    right=-0.6,\n",
    ")\n",
    "step_cond = ConditionStep(\n",
    "    name=\"R2Condition\",\n",
    "    conditions=[cond_ge],\n",
    "    if_steps=[step_register],\n",
    "    else_steps=[]\n",
    ")"
   ]
  },
  {
   "cell_type": "markdown",
   "id": "1d719639-ba98-4f6a-b09b-95b846683348",
   "metadata": {},
   "source": [
    "### Pipeline gathering"
   ]
  },
  {
   "cell_type": "code",
   "execution_count": 576,
   "id": "54ddf2e5-e452-478f-8223-220ecde998de",
   "metadata": {},
   "outputs": [],
   "source": [
    "pipeline_name = f\"ViralHuntPipeline\"\n",
    "definition_config = PipelineDefinitionConfig(use_custom_job_prefix=True)\n",
    "\n",
    "pipeline = Pipeline(\n",
    "    name=pipeline_name,\n",
    "    steps=[step_process, step_train, step_eval, step_cond],\n",
    "    #steps=[step_register],\n",
    "    pipeline_definition_config=definition_config,\n",
    ")\n"
   ]
  },
  {
   "cell_type": "code",
   "execution_count": 577,
   "id": "c3f8e439-35e5-4c77-a090-ba65dcaceebd",
   "metadata": {
    "scrolled": true
   },
   "outputs": [
    {
     "name": "stderr",
     "output_type": "stream",
     "text": [
      "WARNING:sagemaker.workflow._utils:Popping out 'CertifyForMarketplace' from the pipeline definition since it will be overridden in pipeline execution time.\n"
     ]
    },
    {
     "data": {
      "text/plain": [
       "{'Version': '2020-12-01',\n",
       " 'Metadata': {},\n",
       " 'Parameters': [],\n",
       " 'PipelineExperimentConfig': {'ExperimentName': {'Get': 'Execution.PipelineName'},\n",
       "  'TrialName': {'Get': 'Execution.PipelineExecutionId'}},\n",
       " 'Steps': [{'Name': 'Register-RegisterModel',\n",
       "   'Type': 'RegisterModel',\n",
       "   'Arguments': {'ModelPackageGroupName': 'ViralHuntPredictions',\n",
       "    'ModelMetrics': {'ModelQuality': {'Statistics': {'ContentType': 'application/json',\n",
       "       'S3Uri': 's3://sagemaker-us-east-2-471112582765/pytorch-2024-07-24-06-42-33-348/output/evaluation/evaluation.json'}},\n",
       "     'Bias': {},\n",
       "     'Explainability': {}},\n",
       "    'InferenceSpecification': {'Containers': [{'Image': '763104351884.dkr.ecr.us-east-2.amazonaws.com/pytorch-inference:2.3.0-cpu-py311',\n",
       "       'Environment': {'SAGEMAKER_PROGRAM': 'inference.py',\n",
       "        'SAGEMAKER_SUBMIT_DIRECTORY': '/opt/ml/model/code',\n",
       "        'SAGEMAKER_CONTAINER_LOG_LEVEL': '20',\n",
       "        'SAGEMAKER_REGION': 'us-east-2'},\n",
       "       'ModelDataUrl': 's3://sagemaker-us-east-2-471112582765/pytorch-inference-2024-07-24-08-13-43-355/model.tar.gz',\n",
       "       'Framework': 'PYTORCH',\n",
       "       'FrameworkVersion': '2.3.0'}],\n",
       "     'SupportedContentTypes': ['application/json'],\n",
       "     'SupportedResponseMIMETypes': ['application/json'],\n",
       "     'SupportedRealtimeInferenceInstanceTypes': ['ml.t2.medium',\n",
       "      'ml.m5.xlarge'],\n",
       "     'SupportedTransformInstanceTypes': ['ml.m5.xlarge']},\n",
       "    'ModelApprovalStatus': 'Approved',\n",
       "    'SkipModelValidation': 'None'}}]}"
      ]
     },
     "execution_count": 577,
     "metadata": {},
     "output_type": "execute_result"
    }
   ],
   "source": [
    "json.loads(pipeline.definition())\n"
   ]
  },
  {
   "cell_type": "code",
   "execution_count": 578,
   "id": "4c5aba0a-1df7-43e9-9e3d-4e9dcfd4c901",
   "metadata": {
    "scrolled": true
   },
   "outputs": [
    {
     "data": {
      "text/plain": [
       "{'PipelineArn': 'arn:aws:sagemaker:us-east-2:471112582765:pipeline/ViralHuntPipeline',\n",
       " 'ResponseMetadata': {'RequestId': 'ddce0b4d-38be-48b2-86d5-a1e06c46d32f',\n",
       "  'HTTPStatusCode': 200,\n",
       "  'HTTPHeaders': {'x-amzn-requestid': 'ddce0b4d-38be-48b2-86d5-a1e06c46d32f',\n",
       "   'content-type': 'application/x-amz-json-1.1',\n",
       "   'content-length': '85',\n",
       "   'date': 'Wed, 24 Jul 2024 08:14:25 GMT'},\n",
       "  'RetryAttempts': 0}}"
      ]
     },
     "execution_count": 578,
     "metadata": {},
     "output_type": "execute_result"
    }
   ],
   "source": [
    "pipeline.upsert(role_arn=role)"
   ]
  },
  {
   "cell_type": "code",
   "execution_count": 579,
   "id": "ba61e4b1-1257-4743-b401-29469927ed3b",
   "metadata": {},
   "outputs": [],
   "source": [
    "execution = pipeline.start()\n",
    "execution.wait()"
   ]
  },
  {
   "cell_type": "code",
   "execution_count": 556,
   "id": "d81f05ac-135a-419d-ac9f-981c0e4c5ce1",
   "metadata": {},
   "outputs": [
    {
     "data": {
      "text/plain": [
       "{'PipelineArn': 'arn:aws:sagemaker:us-east-2:471112582765:pipeline/ViralHuntPipeline',\n",
       " 'PipelineExecutionArn': 'arn:aws:sagemaker:us-east-2:471112582765:pipeline/ViralHuntPipeline/execution/lb5xkf3a04bf',\n",
       " 'PipelineExecutionDisplayName': 'execution-1721803846151',\n",
       " 'PipelineExecutionStatus': 'Succeeded',\n",
       " 'PipelineExperimentConfig': {'ExperimentName': 'viralhuntpipeline',\n",
       "  'TrialName': 'lb5xkf3a04bf'},\n",
       " 'CreationTime': datetime.datetime(2024, 7, 24, 6, 50, 46, 87000, tzinfo=tzlocal()),\n",
       " 'LastModifiedTime': datetime.datetime(2024, 7, 24, 7, 20, 51, 805000, tzinfo=tzlocal()),\n",
       " 'CreatedBy': {'UserProfileArn': 'arn:aws:sagemaker:us-east-2:471112582765:user-profile/d-bk1fq07zgp0v/default-20240721T151163',\n",
       "  'UserProfileName': 'default-20240721T151163',\n",
       "  'DomainId': 'd-bk1fq07zgp0v',\n",
       "  'IamIdentity': {'Arn': 'arn:aws:sts::471112582765:assumed-role/AmazonSageMaker-ExecutionRole-20240721T151163/SageMaker',\n",
       "   'PrincipalId': 'AROAW3MD7QZWZN5J2BDEB:SageMaker'}},\n",
       " 'LastModifiedBy': {'UserProfileArn': 'arn:aws:sagemaker:us-east-2:471112582765:user-profile/d-bk1fq07zgp0v/default-20240721T151163',\n",
       "  'UserProfileName': 'default-20240721T151163',\n",
       "  'DomainId': 'd-bk1fq07zgp0v',\n",
       "  'IamIdentity': {'Arn': 'arn:aws:sts::471112582765:assumed-role/AmazonSageMaker-ExecutionRole-20240721T151163/SageMaker',\n",
       "   'PrincipalId': 'AROAW3MD7QZWZN5J2BDEB:SageMaker'}},\n",
       " 'ResponseMetadata': {'RequestId': '8a1b6f07-6096-417b-a2c7-fba522f82c37',\n",
       "  'HTTPStatusCode': 200,\n",
       "  'HTTPHeaders': {'x-amzn-requestid': '8a1b6f07-6096-417b-a2c7-fba522f82c37',\n",
       "   'content-type': 'application/x-amz-json-1.1',\n",
       "   'content-length': '1192',\n",
       "   'date': 'Wed, 24 Jul 2024 07:22:43 GMT'},\n",
       "  'RetryAttempts': 0}}"
      ]
     },
     "execution_count": 556,
     "metadata": {},
     "output_type": "execute_result"
    }
   ],
   "source": [
    "execution.describe()"
   ]
  },
  {
   "cell_type": "code",
   "execution_count": 557,
   "id": "372e2606-757e-47ee-90b9-2b3d3bcba1c1",
   "metadata": {},
   "outputs": [],
   "source": [
    "execution.list_steps()\n",
    "registered_model_arn = execution.list_steps()[0]['Metadata']['RegisterModel']['Arn']\n",
    "model_package = ModelPackage(\n",
    "    role=role,\n",
    "    model_package_arn=registered_model_arn,\n",
    ")"
   ]
  },
  {
   "cell_type": "markdown",
   "id": "9c14d45c-9a7e-4446-8eec-ca125766f496",
   "metadata": {},
   "source": [
    "### Deploy model"
   ]
  },
  {
   "cell_type": "code",
   "execution_count": null,
   "id": "fcc62dde-7f36-4ed9-abd7-7199041c1486",
   "metadata": {
    "collapsed": true,
    "jupyter": {
     "outputs_hidden": true
    },
    "scrolled": true
   },
   "outputs": [],
   "source": [
    "endpoint_name = \"ViralHunt-endpoint-\" + time.strftime(\"%Y-%m-%d-%H-%M-%S\", time.gmtime())\n",
    "\n",
    "print(f\"EndpointName: {endpoint_name}\")\n",
    "model.deploy(\n",
    "    initial_instance_count=1,\n",
    "    instance_type=\"ml.m5.xlarge\",\n",
    "    endpoint_name='viral-hunt'\n",
    ")\n",
    "predictor = Predictor(endpoint_name=endpoint_name,\n",
    "    serializer=JSONSerializer(),\n",
    "    deserializer=JSONDeserializer())\n",
    "\n",
    "\n",
    "model_ = sagemaker.pytorch.model.PyTorchModel(\n",
    "    entry_point='inference.py',\n",
    "    source_dir='scripts/inference',\n",
    "    dependencies=['scripts/inference/requirements.txt'],\n",
    "    model_data=step_train.properties.ModelArtifacts.S3ModelArtifacts,\n",
    "    framework_version=\"2.3.0\",\n",
    "    py_version=\"py311\",\n",
    "    role=role,\n",
    "    sagemaker_session=sagemaker_session\n",
    ")\n",
    "\n",
    "\n",
    "predictor = model.deploy(instance_type='ml.m5.xlarge',\n",
    "                        initial_instance_count=1,\n",
    "                        endpoint_name=endpoint_name)\n"
   ]
  },
  {
   "cell_type": "code",
   "execution_count": null,
   "id": "e8c1218a-b584-4835-8472-4825a830d1d9",
   "metadata": {},
   "outputs": [],
   "source": [
    "# sagemaker_session = sagemaker.Session()\n",
    "\n",
    "# # Specify the S3 location of your model artifact\n",
    "# model_data = 's3://sagemaker-us-east-2-471112582765/pytorch-inference-2024-07-24-06-47-05-473/Register-RepackModel-0-0359cce0ceb40236-lb5xkf3a04bf-bzm2I2VfMb/output/model.tar.gz'\n",
    "\n",
    "# # Define the PyTorch model\n",
    "# model_ = sagemaker.pytorch.model.PyTorchModel(\n",
    "#     entry_point='inference.py',\n",
    "#     source_dir='scripts/inference',\n",
    "#     dependencies=['scripts/inference/requirements.txt'],\n",
    "#     model_data=model_data,\n",
    "#     framework_version=\"2.3.0\",\n",
    "#     py_version=\"py311\",\n",
    "#     role=role,\n",
    "#     sagemaker_session=sagemaker_session\n",
    "# )\n",
    "\n",
    "# # Generate a unique endpoint name\n",
    "# endpoint_name = \"ViralHunt-endpoint-\" + time.strftime(\"%Y-%m-%d-%H-%M-%S\", time.gmtime())\n",
    "\n",
    "# # Deploy the model\n",
    "# predictor = model_.deploy(\n",
    "#     instance_type='ml.m5.xlarge',\n",
    "#     initial_instance_count=1,\n",
    "#     endpoint_name=endpoint_name\n",
    "# )\n",
    "\n"
   ]
  }
 ],
 "metadata": {
  "kernelspec": {
   "display_name": "Python 3.9.6 64-bit",
   "language": "python",
   "name": "python3"
  },
  "language_info": {
   "codemirror_mode": {
    "name": "ipython",
    "version": 3
   },
   "file_extension": ".py",
   "mimetype": "text/x-python",
   "name": "python",
   "nbconvert_exporter": "python",
   "pygments_lexer": "ipython3",
   "version": "3.9.6"
  },
  "vscode": {
   "interpreter": {
    "hash": "31f2aee4e71d21fbe5cf8b01ff0e069b9275f58929596ceb00d14d90e3e16cd6"
   }
  }
 },
 "nbformat": 4,
 "nbformat_minor": 5
}

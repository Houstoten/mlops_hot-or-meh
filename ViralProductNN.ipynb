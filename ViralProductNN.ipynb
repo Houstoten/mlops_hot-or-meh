{
 "cells": [
  {
   "cell_type": "code",
   "execution_count": 89,
   "id": "5c0953e0-b0ea-462c-93bf-d431ba75f9df",
   "metadata": {},
   "outputs": [],
   "source": [
    "import pandas as pd    \n",
    "\n",
    "df = pd.read_csv('ProductHuntProducts.csv')"
   ]
  },
  {
   "cell_type": "code",
   "execution_count": 90,
   "id": "ce5fdbc6-fe9e-4ba0-824a-88cfcc971be9",
   "metadata": {},
   "outputs": [
    {
     "data": {
      "text/html": [
       "<div>\n",
       "<style scoped>\n",
       "    .dataframe tbody tr th:only-of-type {\n",
       "        vertical-align: middle;\n",
       "    }\n",
       "\n",
       "    .dataframe tbody tr th {\n",
       "        vertical-align: top;\n",
       "    }\n",
       "\n",
       "    .dataframe thead th {\n",
       "        text-align: right;\n",
       "    }\n",
       "</style>\n",
       "<table border=\"1\" class=\"dataframe\">\n",
       "  <thead>\n",
       "    <tr style=\"text-align: right;\">\n",
       "      <th></th>\n",
       "      <th>id</th>\n",
       "      <th>name</th>\n",
       "      <th>votesCount</th>\n",
       "      <th>commentsCount</th>\n",
       "      <th>tagline</th>\n",
       "      <th>createdAt</th>\n",
       "      <th>description</th>\n",
       "      <th>topics.totalCount</th>\n",
       "      <th>topics.nodesPieces</th>\n",
       "    </tr>\n",
       "  </thead>\n",
       "  <tbody>\n",
       "    <tr>\n",
       "      <th>0</th>\n",
       "      <td>467006</td>\n",
       "      <td>Pieces Copilot+</td>\n",
       "      <td>432</td>\n",
       "      <td>184</td>\n",
       "      <td>Remember anything with a real-time, on-device ...</td>\n",
       "      <td>2024-07-10T07:01:00Z</td>\n",
       "      <td>Ask questions about anything on your desktop c...</td>\n",
       "      <td>3</td>\n",
       "      <td>[{'name': 'Productivity'}, {'name': 'Software ...</td>\n",
       "    </tr>\n",
       "    <tr>\n",
       "      <th>1</th>\n",
       "      <td>466991</td>\n",
       "      <td>Turf</td>\n",
       "      <td>417</td>\n",
       "      <td>187</td>\n",
       "      <td>The in-app community platform for SaaS companies</td>\n",
       "      <td>2024-07-10T07:01:00Z</td>\n",
       "      <td>Create community forums, customer feedback boa...</td>\n",
       "      <td>3</td>\n",
       "      <td>[{'name': 'Customer Success'}, {'name': 'SaaS'...</td>\n",
       "    </tr>\n",
       "    <tr>\n",
       "      <th>2</th>\n",
       "      <td>466593</td>\n",
       "      <td>StreamAlive App for Zoom</td>\n",
       "      <td>315</td>\n",
       "      <td>162</td>\n",
       "      <td>Just put it in the chat</td>\n",
       "      <td>2024-07-10T07:01:00Z</td>\n",
       "      <td>Run polls, quizzes, word clouds, spinner wheel...</td>\n",
       "      <td>3</td>\n",
       "      <td>[{'name': 'SaaS'}, {'name': 'Remote Work'}, {'...</td>\n",
       "    </tr>\n",
       "    <tr>\n",
       "      <th>3</th>\n",
       "      <td>466672</td>\n",
       "      <td>Flat</td>\n",
       "      <td>230</td>\n",
       "      <td>99</td>\n",
       "      <td>Simple, delightful, collaborative work tracking</td>\n",
       "      <td>2024-07-10T07:01:00Z</td>\n",
       "      <td>Forget bloated project management tools. Flat ...</td>\n",
       "      <td>3</td>\n",
       "      <td>[{'name': 'Productivity'}, {'name': 'Task Mana...</td>\n",
       "    </tr>\n",
       "    <tr>\n",
       "      <th>4</th>\n",
       "      <td>469161</td>\n",
       "      <td>Leo</td>\n",
       "      <td>211</td>\n",
       "      <td>73</td>\n",
       "      <td>AI phone assistants</td>\n",
       "      <td>2024-07-10T07:01:00Z</td>\n",
       "      <td>Quickly set up AI phone assistants for making ...</td>\n",
       "      <td>3</td>\n",
       "      <td>[{'name': 'Artificial Intelligence'}, {'name':...</td>\n",
       "    </tr>\n",
       "    <tr>\n",
       "      <th>...</th>\n",
       "      <td>...</td>\n",
       "      <td>...</td>\n",
       "      <td>...</td>\n",
       "      <td>...</td>\n",
       "      <td>...</td>\n",
       "      <td>...</td>\n",
       "      <td>...</td>\n",
       "      <td>...</td>\n",
       "      <td>...</td>\n",
       "    </tr>\n",
       "    <tr>\n",
       "      <th>7168</th>\n",
       "      <td>455400</td>\n",
       "      <td>Dhime</td>\n",
       "      <td>5</td>\n",
       "      <td>3</td>\n",
       "      <td>Learn Dance with AI</td>\n",
       "      <td>2024-05-05T07:01:00Z</td>\n",
       "      <td>Learn dance anywhere anytime with Dhime, your ...</td>\n",
       "      <td>2</td>\n",
       "      <td>[{'name': 'Artificial Intelligence'}, {'name':...</td>\n",
       "    </tr>\n",
       "    <tr>\n",
       "      <th>7169</th>\n",
       "      <td>455373</td>\n",
       "      <td>FaceX</td>\n",
       "      <td>2</td>\n",
       "      <td>1</td>\n",
       "      <td>Face X Anything, become a NPC, or Anime Character</td>\n",
       "      <td>2024-05-05T15:01:00Z</td>\n",
       "      <td>FaceX, mean's Face X Anything.(Optimization Pa...</td>\n",
       "      <td>3</td>\n",
       "      <td>[{'name': 'Design Tools'}, {'name': 'Art'}, {'...</td>\n",
       "    </tr>\n",
       "    <tr>\n",
       "      <th>7170</th>\n",
       "      <td>454288</td>\n",
       "      <td>CopyBuddy.io</td>\n",
       "      <td>119</td>\n",
       "      <td>42</td>\n",
       "      <td>Send cold emails your prospects love respondin...</td>\n",
       "      <td>2024-05-05T07:01:00Z</td>\n",
       "      <td>Send cold emails your prospects love respondin...</td>\n",
       "      <td>3</td>\n",
       "      <td>[{'name': 'Sales'}, {'name': 'Writing'}, {'nam...</td>\n",
       "    </tr>\n",
       "    <tr>\n",
       "      <th>7171</th>\n",
       "      <td>455478</td>\n",
       "      <td>RandCall</td>\n",
       "      <td>2</td>\n",
       "      <td>2</td>\n",
       "      <td>Random Match Chat</td>\n",
       "      <td>2024-05-06T01:49:40Z</td>\n",
       "      <td>Randcall —— Talking &amp; Meeting New People Get t...</td>\n",
       "      <td>3</td>\n",
       "      <td>[{'name': 'Messaging'}, {'name': 'Video Stream...</td>\n",
       "    </tr>\n",
       "    <tr>\n",
       "      <th>7172</th>\n",
       "      <td>450031</td>\n",
       "      <td>MTlogin</td>\n",
       "      <td>3</td>\n",
       "      <td>1</td>\n",
       "      <td>Ultimate Anti-Detection Fingerprint Simulation</td>\n",
       "      <td>2024-05-06T02:14:38Z</td>\n",
       "      <td>MTLogin browser offers advanced fingerprint se...</td>\n",
       "      <td>3</td>\n",
       "      <td>[{'name': 'Marketing'}, {'name': 'Affiliate ma...</td>\n",
       "    </tr>\n",
       "  </tbody>\n",
       "</table>\n",
       "<p>7133 rows × 9 columns</p>\n",
       "</div>"
      ],
      "text/plain": [
       "          id                      name  votesCount  commentsCount  \\\n",
       "0     467006           Pieces Copilot+         432            184   \n",
       "1     466991                      Turf         417            187   \n",
       "2     466593  StreamAlive App for Zoom         315            162   \n",
       "3     466672                      Flat         230             99   \n",
       "4     469161                       Leo         211             73   \n",
       "...      ...                       ...         ...            ...   \n",
       "7168  455400                     Dhime           5              3   \n",
       "7169  455373                     FaceX           2              1   \n",
       "7170  454288              CopyBuddy.io         119             42   \n",
       "7171  455478                  RandCall           2              2   \n",
       "7172  450031                   MTlogin           3              1   \n",
       "\n",
       "                                                tagline             createdAt  \\\n",
       "0     Remember anything with a real-time, on-device ...  2024-07-10T07:01:00Z   \n",
       "1      The in-app community platform for SaaS companies  2024-07-10T07:01:00Z   \n",
       "2                               Just put it in the chat  2024-07-10T07:01:00Z   \n",
       "3       Simple, delightful, collaborative work tracking  2024-07-10T07:01:00Z   \n",
       "4                                   AI phone assistants  2024-07-10T07:01:00Z   \n",
       "...                                                 ...                   ...   \n",
       "7168                                Learn Dance with AI  2024-05-05T07:01:00Z   \n",
       "7169  Face X Anything, become a NPC, or Anime Character  2024-05-05T15:01:00Z   \n",
       "7170  Send cold emails your prospects love respondin...  2024-05-05T07:01:00Z   \n",
       "7171                                  Random Match Chat  2024-05-06T01:49:40Z   \n",
       "7172     Ultimate Anti-Detection Fingerprint Simulation  2024-05-06T02:14:38Z   \n",
       "\n",
       "                                            description  topics.totalCount  \\\n",
       "0     Ask questions about anything on your desktop c...                  3   \n",
       "1     Create community forums, customer feedback boa...                  3   \n",
       "2     Run polls, quizzes, word clouds, spinner wheel...                  3   \n",
       "3     Forget bloated project management tools. Flat ...                  3   \n",
       "4     Quickly set up AI phone assistants for making ...                  3   \n",
       "...                                                 ...                ...   \n",
       "7168  Learn dance anywhere anytime with Dhime, your ...                  2   \n",
       "7169  FaceX, mean's Face X Anything.(Optimization Pa...                  3   \n",
       "7170  Send cold emails your prospects love respondin...                  3   \n",
       "7171  Randcall —— Talking & Meeting New People Get t...                  3   \n",
       "7172  MTLogin browser offers advanced fingerprint se...                  3   \n",
       "\n",
       "                                     topics.nodesPieces  \n",
       "0     [{'name': 'Productivity'}, {'name': 'Software ...  \n",
       "1     [{'name': 'Customer Success'}, {'name': 'SaaS'...  \n",
       "2     [{'name': 'SaaS'}, {'name': 'Remote Work'}, {'...  \n",
       "3     [{'name': 'Productivity'}, {'name': 'Task Mana...  \n",
       "4     [{'name': 'Artificial Intelligence'}, {'name':...  \n",
       "...                                                 ...  \n",
       "7168  [{'name': 'Artificial Intelligence'}, {'name':...  \n",
       "7169  [{'name': 'Design Tools'}, {'name': 'Art'}, {'...  \n",
       "7170  [{'name': 'Sales'}, {'name': 'Writing'}, {'nam...  \n",
       "7171  [{'name': 'Messaging'}, {'name': 'Video Stream...  \n",
       "7172  [{'name': 'Marketing'}, {'name': 'Affiliate ma...  \n",
       "\n",
       "[7133 rows x 9 columns]"
      ]
     },
     "execution_count": 90,
     "metadata": {},
     "output_type": "execute_result"
    }
   ],
   "source": [
    "df.drop_duplicates(subset='id', keep=\"first\", inplace=True)\n",
    "# df['target'] = (df['votesCount'] + df['commentsCount']).apply(lambda x: min(x, 1))\n",
    "\n",
    "# # Check for missing values in description and title\n",
    "# df.dropna(subset=['description', 'tagline'], inplace=True)\n",
    "df"
   ]
  },
  {
   "cell_type": "code",
   "execution_count": 13,
   "id": "87d720d3-561a-4cfa-8342-33e695cb2cbb",
   "metadata": {
    "scrolled": true
   },
   "outputs": [
    {
     "name": "stdout",
     "output_type": "stream",
     "text": [
      "Requirement already satisfied: transformers in /Users/ivanhusarov/miniconda3/lib/python3.10/site-packages (4.35.2)\n",
      "Requirement already satisfied: torch in /Users/ivanhusarov/miniconda3/lib/python3.10/site-packages (2.1.1)\n",
      "Requirement already satisfied: scikit-learn in /Users/ivanhusarov/miniconda3/lib/python3.10/site-packages (1.3.2)\n",
      "Requirement already satisfied: packaging>=20.0 in /Users/ivanhusarov/miniconda3/lib/python3.10/site-packages (from transformers) (23.2)\n",
      "Requirement already satisfied: tokenizers<0.19,>=0.14 in /Users/ivanhusarov/miniconda3/lib/python3.10/site-packages (from transformers) (0.15.0)\n",
      "Requirement already satisfied: huggingface-hub<1.0,>=0.16.4 in /Users/ivanhusarov/miniconda3/lib/python3.10/site-packages (from transformers) (0.21.4)\n",
      "Requirement already satisfied: safetensors>=0.3.1 in /Users/ivanhusarov/miniconda3/lib/python3.10/site-packages (from transformers) (0.4.0)\n",
      "Requirement already satisfied: pyyaml>=5.1 in /Users/ivanhusarov/miniconda3/lib/python3.10/site-packages (from transformers) (6.0)\n",
      "Requirement already satisfied: requests in /Users/ivanhusarov/miniconda3/lib/python3.10/site-packages (from transformers) (2.31.0)\n",
      "Requirement already satisfied: regex!=2019.12.17 in /Users/ivanhusarov/miniconda3/lib/python3.10/site-packages (from transformers) (2023.10.3)\n",
      "Requirement already satisfied: numpy>=1.17 in /Users/ivanhusarov/miniconda3/lib/python3.10/site-packages (from transformers) (1.24.3)\n",
      "Requirement already satisfied: tqdm>=4.27 in /Users/ivanhusarov/miniconda3/lib/python3.10/site-packages (from transformers) (4.65.0)\n",
      "Requirement already satisfied: filelock in /Users/ivanhusarov/miniconda3/lib/python3.10/site-packages (from transformers) (3.13.1)\n",
      "Requirement already satisfied: jinja2 in /Users/ivanhusarov/miniconda3/lib/python3.10/site-packages (from torch) (3.1.2)\n",
      "Requirement already satisfied: sympy in /Users/ivanhusarov/miniconda3/lib/python3.10/site-packages (from torch) (1.12)\n",
      "Requirement already satisfied: networkx in /Users/ivanhusarov/miniconda3/lib/python3.10/site-packages (from torch) (3.2.1)\n",
      "Requirement already satisfied: typing-extensions in /Users/ivanhusarov/miniconda3/lib/python3.10/site-packages (from torch) (4.6.2)\n",
      "Requirement already satisfied: fsspec in /Users/ivanhusarov/miniconda3/lib/python3.10/site-packages (from torch) (2023.10.0)\n",
      "Requirement already satisfied: threadpoolctl>=2.0.0 in /Users/ivanhusarov/miniconda3/lib/python3.10/site-packages (from scikit-learn) (3.2.0)\n",
      "Requirement already satisfied: joblib>=1.1.1 in /Users/ivanhusarov/miniconda3/lib/python3.10/site-packages (from scikit-learn) (1.3.2)\n",
      "Requirement already satisfied: scipy>=1.5.0 in /Users/ivanhusarov/miniconda3/lib/python3.10/site-packages (from scikit-learn) (1.10.1)\n",
      "Requirement already satisfied: MarkupSafe>=2.0 in /Users/ivanhusarov/miniconda3/lib/python3.10/site-packages (from jinja2->torch) (2.1.1)\n",
      "Requirement already satisfied: urllib3<3,>=1.21.1 in /Users/ivanhusarov/miniconda3/lib/python3.10/site-packages (from requests->transformers) (1.26.15)\n",
      "Requirement already satisfied: charset-normalizer<4,>=2 in /Users/ivanhusarov/miniconda3/lib/python3.10/site-packages (from requests->transformers) (2.0.4)\n",
      "Requirement already satisfied: idna<4,>=2.5 in /Users/ivanhusarov/miniconda3/lib/python3.10/site-packages (from requests->transformers) (3.4)\n",
      "Requirement already satisfied: certifi>=2017.4.17 in /Users/ivanhusarov/miniconda3/lib/python3.10/site-packages (from requests->transformers) (2023.5.7)\n",
      "Requirement already satisfied: mpmath>=0.19 in /Users/ivanhusarov/miniconda3/lib/python3.10/site-packages (from sympy->torch) (1.3.0)\n",
      "Note: you may need to restart the kernel to use updated packages.\n"
     ]
    }
   ],
   "source": [
    "pip install transformers torch scikit-learn"
   ]
  },
  {
   "cell_type": "code",
   "execution_count": 91,
   "id": "2fbc9994-e0c8-403b-84e0-e62fd96920d0",
   "metadata": {},
   "outputs": [
    {
     "name": "stderr",
     "output_type": "stream",
     "text": [
      "/Users/ivanhusarov/miniconda3/lib/python3.10/site-packages/pandas/core/internals/blocks.py:366: RuntimeWarning: divide by zero encountered in log\n",
      "  result = func(self.values, **kwargs)\n"
     ]
    },
    {
     "data": {
      "text/plain": [
       "<Axes: ylabel='Frequency'>"
      ]
     },
     "execution_count": 91,
     "metadata": {},
     "output_type": "execute_result"
    },
    {
     "data": {
      "image/png": "[encoded data removed]",
      "text/plain": [
       "<Figure size 640x480 with 1 Axes>"
      ]
     },
     "metadata": {},
     "output_type": "display_data"
    }
   ],
   "source": [
    "from sklearn.preprocessing import MinMaxScaler\n",
    "import numpy as np\n",
    "import matplotlib.pyplot as plt\n",
    "\n",
    "df['target'] = df['votesCount'] + df['commentsCount']\n",
    "\n",
    "scaler = MinMaxScaler()\n",
    "df['target'] = scaler.fit_transform(np.maximum(0, np.log(df[['target']])))\n",
    "\n",
    "df['target'].plot(kind='hist', bins=20)"
   ]
  },
  {
   "cell_type": "code",
   "execution_count": 100,
   "id": "24d57c03-af4a-41c7-a168-9580ab1290b3",
   "metadata": {},
   "outputs": [],
   "source": [
    "df['description'] = df['description'].fillna('na').astype(str).str.lower()\n",
    "df['tagline'] = df['tagline'].fillna('na').astype(str).str.lower()"
   ]
  },
  {
   "cell_type": "code",
   "execution_count": 38,
   "id": "a818cab4-e251-4197-9c5f-141267844756",
   "metadata": {},
   "outputs": [],
   "source": [
    "import torch\n",
    "from transformers import BertTokenizer, BertModel\n",
    "from sklearn.preprocessing import MinMaxScaler\n",
    "import pandas as pd\n",
    "import numpy as np\n",
    "import torch.nn as nn\n",
    "import torch.optim as optim\n",
    "from torch.utils.data import DataLoader, TensorDataset\n",
    "\n",
    "tokenizer = BertTokenizer.from_pretrained('bert-base-uncased')\n",
    "bert_model = BertModel.from_pretrained('bert-base-uncased')\n",
    "\n",
    "# Function to get BERT embeddings\n",
    "def get_bert_embedding(text):\n",
    "    inputs = tokenizer(text, return_tensors='pt', truncation=True, padding=True, max_length=512)\n",
    "    with torch.no_grad():\n",
    "        outputs = bert_model(**inputs)\n",
    "    return outputs.last_hidden_state[:, 0, :]"
   ]
  },
  {
   "cell_type": "code",
   "execution_count": 107,
   "id": "35699245-bb6b-43be-8cc7-eae1d4c8d520",
   "metadata": {},
   "outputs": [],
   "source": [
    "# get_bert_embedding(df.iloc[3509]['description'])\n",
    "# df.iloc[[3509]]['description']\n",
    "# get_bert_embedding(\"na\")\n",
    "# df['description'] = df.iloc[[3509]]['description'].fillna('').astype(str)"
   ]
  },
  {
   "cell_type": "code",
   "execution_count": 111,
   "id": "79971d81-d578-43e3-b50b-3ad653cd4807",
   "metadata": {},
   "outputs": [
    {
     "data": {
      "text/plain": [
       "0       ask questions about anything on your desktop c...\n",
       "1       create community forums, customer feedback boa...\n",
       "2       run polls, quizzes, word clouds, spinner wheel...\n",
       "3       forget bloated project management tools. flat ...\n",
       "4       quickly set up ai phone assistants for making ...\n",
       "                              ...                        \n",
       "7168    learn dance anywhere anytime with dhime, your ...\n",
       "7169    facex, mean's face x anything.(optimization pa...\n",
       "7170    send cold emails your prospects love respondin...\n",
       "7171    randcall —— talking & meeting new people get t...\n",
       "7172    mtlogin browser offers advanced fingerprint se...\n",
       "Name: description, Length: 7133, dtype: object"
      ]
     },
     "execution_count": 111,
     "metadata": {},
     "output_type": "execute_result"
    }
   ],
   "source": [
    "# df.iloc[3509]['description']\n",
    "# df[['description', 'tagline']]['description']"
   ]
  },
  {
   "cell_type": "code",
   "execution_count": 126,
   "id": "9dd758d7-cc51-4e54-b253-42edbf008dbf",
   "metadata": {},
   "outputs": [
    {
     "name": "stderr",
     "output_type": "stream",
     "text": [
      "Tokenizing descriptions: 100%|███████████████████████████████████████████████████████████████████████████████████████████████████████████████████████████████████████████████| 7133/7133 [06:01<00:00, 19.75it/s]\n",
      "Tokenizing taglines: 100%|███████████████████████████████████████████████████████████████████████████████████████████████████████████████████████████████████████████████████| 7133/7133 [46:12<00:00,  2.57it/s]\n"
     ]
    }
   ],
   "source": [
    "from tqdm import tqdm\n",
    "\n",
    "# Get embeddings for descriptions and titles\n",
    "description_embeddings = [get_bert_embedding(desc) for desc in tqdm(df['description'], desc='Tokenizing descriptions', position=0, leave=True)]\n",
    "tagline_embeddings = [get_bert_embedding(tagline) for tagline in tqdm(df['tagline'], desc='Tokenizing taglines', position=0, leave=True)]"
   ]
  },
  {
   "cell_type": "code",
   "execution_count": 127,
   "id": "8ede38f2-8585-4184-acbd-def60d1771d9",
   "metadata": {},
   "outputs": [],
   "source": [
    "# Combine embeddings\n",
    "embeddings = [torch.cat((desc_emb, tag_emb), dim=1) for desc_emb, tag_emb in zip(description_embeddings, tagline_embeddings)]\n",
    "embeddings = torch.cat(embeddings, dim=0)"
   ]
  },
  {
   "cell_type": "code",
   "execution_count": 148,
   "id": "faffdbfb-3c19-4073-88f7-e4bbd5473ce0",
   "metadata": {},
   "outputs": [
    {
     "data": {
      "text/plain": [
       "768"
      ]
     },
     "execution_count": 148,
     "metadata": {},
     "output_type": "execute_result"
    }
   ],
   "source": [
    "len(tagline_embeddings[0][0])"
   ]
  },
  {
   "cell_type": "markdown",
   "id": "6d525ec7-1394-4a35-985c-ac1670b2a900",
   "metadata": {},
   "source": [
    "### DistilBERT approach"
   ]
  },
  {
   "cell_type": "code",
   "execution_count": 149,
   "id": "58eb5f03-173e-49ea-a239-672df2c5848c",
   "metadata": {},
   "outputs": [],
   "source": [
    "import torch\n",
    "import torch.nn as nn\n",
    "from torch.utils.data import Dataset, DataLoader\n",
    "from transformers import DistilBertTokenizer, DistilBertModel\n",
    "import pandas as pd\n",
    "from sklearn.model_selection import train_test_split\n",
    "\n",
    "\n",
    "class TextDataset(Dataset):\n",
    "    def __init__(self, descriptions, taglines, targets, tokenizer, max_length):\n",
    "        self.descriptions = descriptions\n",
    "        self.taglines = taglines\n",
    "        self.targets = targets\n",
    "        self.tokenizer = tokenizer\n",
    "        self.max_length = max_length\n",
    "    \n",
    "    def __len__(self):\n",
    "        return len(self.targets)\n",
    "    \n",
    "    def __getitem__(self, idx):\n",
    "        description = str(self.descriptions[idx])\n",
    "        tagline = str(self.taglines[idx])\n",
    "        text = description + \" \" + tagline\n",
    "        \n",
    "        encoding = self.tokenizer.encode_plus(\n",
    "            text,\n",
    "            add_special_tokens=True,\n",
    "            max_length=self.max_length,\n",
    "            return_token_type_ids=False,\n",
    "            padding='max_length',\n",
    "            truncation=True,\n",
    "            return_attention_mask=True,\n",
    "            return_tensors='pt',\n",
    "        )\n",
    "        \n",
    "        return {\n",
    "            'input_ids': encoding['input_ids'].flatten(),\n",
    "            'attention_mask': encoding['attention_mask'].flatten(),\n",
    "            'targets': torch.tensor(self.targets[idx], dtype=torch.float)\n",
    "        }\n",
    "\n",
    "class DistilBERTClassifier(nn.Module):\n",
    "    def __init__(self, n_classes):\n",
    "        super(DistilBERTClassifier, self).__init__()\n",
    "        self.distilbert = DistilBertModel.from_pretrained('distilbert-base-uncased')\n",
    "        self.drop = nn.Dropout(p=0.3)\n",
    "        self.fc = nn.Linear(self.distilbert.config.hidden_size, n_classes)\n",
    "        self.sigmoid = nn.Sigmoid()\n",
    "    \n",
    "    def forward(self, input_ids, attention_mask):\n",
    "        outputs = self.distilbert(\n",
    "            input_ids=input_ids,\n",
    "            attention_mask=attention_mask\n",
    "        )\n",
    "        pooled_output = outputs.last_hidden_state[:, 0]  # Use [CLS] token for classification\n",
    "        output = self.drop(pooled_output)\n",
    "        output = self.fc(output)\n",
    "        return self.sigmoid(output)"
   ]
  },
  {
   "cell_type": "code",
   "execution_count": 151,
   "id": "72da45c8-99c5-4142-a2f6-9b829a148571",
   "metadata": {},
   "outputs": [],
   "source": [
    "X_train, X_test, y_train, y_test = train_test_split(\n",
    "    df[['description', 'tagline']], df['target'], test_size=0.2, random_state=42\n",
    ")\n",
    "\n",
    "tokenizer = DistilBertTokenizer.from_pretrained('distilbert-base-uncased')\n",
    "max_length = 512\n",
    "\n",
    "train_dataset = TextDataset(\n",
    "    X_train['description'].values, \n",
    "    X_train['tagline'].values, \n",
    "    y_train.values, \n",
    "    tokenizer, \n",
    "    max_length\n",
    ")\n",
    "\n",
    "test_dataset = TextDataset(\n",
    "    X_test['description'].values, \n",
    "    X_test['tagline'].values, \n",
    "    y_test.values, \n",
    "    tokenizer, \n",
    "    max_length\n",
    ")\n"
   ]
  },
  {
   "cell_type": "code",
   "execution_count": 153,
   "id": "16cf3ba0-a5ec-4ad5-a3e8-fecb1c6c746f",
   "metadata": {},
   "outputs": [],
   "source": [
    "train_loader = DataLoader(train_dataset, batch_size=16, shuffle=True)\n",
    "test_loader = DataLoader(test_dataset, batch_size=16)\n",
    "\n",
    "# Initialize the model, loss function, and optimizer\n",
    "device = torch.device('mps')\n",
    "model = DistilBERTClassifier(n_classes=1).to(device)\n",
    "criterion = nn.BCELoss()\n",
    "optimizer = torch.optim.AdamW(model.parameters(), lr=5e-5)"
   ]
  },
  {
   "cell_type": "code",
   "execution_count": 154,
   "id": "49a3cef0-5f95-420b-a543-a7892c8409b4",
   "metadata": {},
   "outputs": [
    {
     "ename": "KeyboardInterrupt",
     "evalue": "",
     "output_type": "error",
     "traceback": [
      "\u001b[0;31m---------------------------------------------------------------------------\u001b[0m",
      "\u001b[0;31mKeyboardInterrupt\u001b[0m                         Traceback (most recent call last)",
      "Cell \u001b[0;32mIn[154], line 15\u001b[0m\n\u001b[1;32m     13\u001b[0m     optimizer\u001b[38;5;241m.\u001b[39mzero_grad()\n\u001b[1;32m     14\u001b[0m     loss\u001b[38;5;241m.\u001b[39mbackward()\n\u001b[0;32m---> 15\u001b[0m     \u001b[43moptimizer\u001b[49m\u001b[38;5;241;43m.\u001b[39;49m\u001b[43mstep\u001b[49m\u001b[43m(\u001b[49m\u001b[43m)\u001b[49m\n\u001b[1;32m     17\u001b[0m \u001b[38;5;28mprint\u001b[39m(\u001b[38;5;124mf\u001b[39m\u001b[38;5;124m'\u001b[39m\u001b[38;5;124mEpoch \u001b[39m\u001b[38;5;132;01m{\u001b[39;00mepoch\u001b[38;5;241m+\u001b[39m\u001b[38;5;241m1\u001b[39m\u001b[38;5;132;01m}\u001b[39;00m\u001b[38;5;124m/\u001b[39m\u001b[38;5;132;01m{\u001b[39;00mnum_epochs\u001b[38;5;132;01m}\u001b[39;00m\u001b[38;5;124m, Loss: \u001b[39m\u001b[38;5;132;01m{\u001b[39;00mloss\u001b[38;5;241m.\u001b[39mitem()\u001b[38;5;132;01m:\u001b[39;00m\u001b[38;5;124m.4f\u001b[39m\u001b[38;5;132;01m}\u001b[39;00m\u001b[38;5;124m'\u001b[39m)\n",
      "File \u001b[0;32m~/miniconda3/lib/python3.10/site-packages/torch/optim/optimizer.py:373\u001b[0m, in \u001b[0;36mOptimizer.profile_hook_step.<locals>.wrapper\u001b[0;34m(*args, **kwargs)\u001b[0m\n\u001b[1;32m    368\u001b[0m         \u001b[38;5;28;01melse\u001b[39;00m:\n\u001b[1;32m    369\u001b[0m             \u001b[38;5;28;01mraise\u001b[39;00m \u001b[38;5;167;01mRuntimeError\u001b[39;00m(\n\u001b[1;32m    370\u001b[0m                 \u001b[38;5;124mf\u001b[39m\u001b[38;5;124m\"\u001b[39m\u001b[38;5;132;01m{\u001b[39;00mfunc\u001b[38;5;132;01m}\u001b[39;00m\u001b[38;5;124m must return None or a tuple of (new_args, new_kwargs), but got \u001b[39m\u001b[38;5;132;01m{\u001b[39;00mresult\u001b[38;5;132;01m}\u001b[39;00m\u001b[38;5;124m.\u001b[39m\u001b[38;5;124m\"\u001b[39m\n\u001b[1;32m    371\u001b[0m             )\n\u001b[0;32m--> 373\u001b[0m out \u001b[38;5;241m=\u001b[39m \u001b[43mfunc\u001b[49m\u001b[43m(\u001b[49m\u001b[38;5;241;43m*\u001b[39;49m\u001b[43margs\u001b[49m\u001b[43m,\u001b[49m\u001b[43m \u001b[49m\u001b[38;5;241;43m*\u001b[39;49m\u001b[38;5;241;43m*\u001b[39;49m\u001b[43mkwargs\u001b[49m\u001b[43m)\u001b[49m\n\u001b[1;32m    374\u001b[0m \u001b[38;5;28mself\u001b[39m\u001b[38;5;241m.\u001b[39m_optimizer_step_code()\n\u001b[1;32m    376\u001b[0m \u001b[38;5;66;03m# call optimizer step post hooks\u001b[39;00m\n",
      "File \u001b[0;32m~/miniconda3/lib/python3.10/site-packages/torch/optim/optimizer.py:76\u001b[0m, in \u001b[0;36m_use_grad_for_differentiable.<locals>._use_grad\u001b[0;34m(self, *args, **kwargs)\u001b[0m\n\u001b[1;32m     74\u001b[0m     torch\u001b[38;5;241m.\u001b[39mset_grad_enabled(\u001b[38;5;28mself\u001b[39m\u001b[38;5;241m.\u001b[39mdefaults[\u001b[38;5;124m'\u001b[39m\u001b[38;5;124mdifferentiable\u001b[39m\u001b[38;5;124m'\u001b[39m])\n\u001b[1;32m     75\u001b[0m     torch\u001b[38;5;241m.\u001b[39m_dynamo\u001b[38;5;241m.\u001b[39mgraph_break()\n\u001b[0;32m---> 76\u001b[0m     ret \u001b[38;5;241m=\u001b[39m \u001b[43mfunc\u001b[49m\u001b[43m(\u001b[49m\u001b[38;5;28;43mself\u001b[39;49m\u001b[43m,\u001b[49m\u001b[43m \u001b[49m\u001b[38;5;241;43m*\u001b[39;49m\u001b[43margs\u001b[49m\u001b[43m,\u001b[49m\u001b[43m \u001b[49m\u001b[38;5;241;43m*\u001b[39;49m\u001b[38;5;241;43m*\u001b[39;49m\u001b[43mkwargs\u001b[49m\u001b[43m)\u001b[49m\n\u001b[1;32m     77\u001b[0m \u001b[38;5;28;01mfinally\u001b[39;00m:\n\u001b[1;32m     78\u001b[0m     torch\u001b[38;5;241m.\u001b[39m_dynamo\u001b[38;5;241m.\u001b[39mgraph_break()\n",
      "File \u001b[0;32m~/miniconda3/lib/python3.10/site-packages/torch/optim/adamw.py:184\u001b[0m, in \u001b[0;36mAdamW.step\u001b[0;34m(self, closure)\u001b[0m\n\u001b[1;32m    171\u001b[0m     beta1, beta2 \u001b[38;5;241m=\u001b[39m group[\u001b[38;5;124m\"\u001b[39m\u001b[38;5;124mbetas\u001b[39m\u001b[38;5;124m\"\u001b[39m]\n\u001b[1;32m    173\u001b[0m     \u001b[38;5;28mself\u001b[39m\u001b[38;5;241m.\u001b[39m_init_group(\n\u001b[1;32m    174\u001b[0m         group,\n\u001b[1;32m    175\u001b[0m         params_with_grad,\n\u001b[0;32m   (...)\u001b[0m\n\u001b[1;32m    181\u001b[0m         state_steps,\n\u001b[1;32m    182\u001b[0m     )\n\u001b[0;32m--> 184\u001b[0m     \u001b[43madamw\u001b[49m\u001b[43m(\u001b[49m\n\u001b[1;32m    185\u001b[0m \u001b[43m        \u001b[49m\u001b[43mparams_with_grad\u001b[49m\u001b[43m,\u001b[49m\n\u001b[1;32m    186\u001b[0m \u001b[43m        \u001b[49m\u001b[43mgrads\u001b[49m\u001b[43m,\u001b[49m\n\u001b[1;32m    187\u001b[0m \u001b[43m        \u001b[49m\u001b[43mexp_avgs\u001b[49m\u001b[43m,\u001b[49m\n\u001b[1;32m    188\u001b[0m \u001b[43m        \u001b[49m\u001b[43mexp_avg_sqs\u001b[49m\u001b[43m,\u001b[49m\n\u001b[1;32m    189\u001b[0m \u001b[43m        \u001b[49m\u001b[43mmax_exp_avg_sqs\u001b[49m\u001b[43m,\u001b[49m\n\u001b[1;32m    190\u001b[0m \u001b[43m        \u001b[49m\u001b[43mstate_steps\u001b[49m\u001b[43m,\u001b[49m\n\u001b[1;32m    191\u001b[0m \u001b[43m        \u001b[49m\u001b[43mamsgrad\u001b[49m\u001b[38;5;241;43m=\u001b[39;49m\u001b[43mamsgrad\u001b[49m\u001b[43m,\u001b[49m\n\u001b[1;32m    192\u001b[0m \u001b[43m        \u001b[49m\u001b[43mbeta1\u001b[49m\u001b[38;5;241;43m=\u001b[39;49m\u001b[43mbeta1\u001b[49m\u001b[43m,\u001b[49m\n\u001b[1;32m    193\u001b[0m \u001b[43m        \u001b[49m\u001b[43mbeta2\u001b[49m\u001b[38;5;241;43m=\u001b[39;49m\u001b[43mbeta2\u001b[49m\u001b[43m,\u001b[49m\n\u001b[1;32m    194\u001b[0m \u001b[43m        \u001b[49m\u001b[43mlr\u001b[49m\u001b[38;5;241;43m=\u001b[39;49m\u001b[43mgroup\u001b[49m\u001b[43m[\u001b[49m\u001b[38;5;124;43m\"\u001b[39;49m\u001b[38;5;124;43mlr\u001b[39;49m\u001b[38;5;124;43m\"\u001b[39;49m\u001b[43m]\u001b[49m\u001b[43m,\u001b[49m\n\u001b[1;32m    195\u001b[0m \u001b[43m        \u001b[49m\u001b[43mweight_decay\u001b[49m\u001b[38;5;241;43m=\u001b[39;49m\u001b[43mgroup\u001b[49m\u001b[43m[\u001b[49m\u001b[38;5;124;43m\"\u001b[39;49m\u001b[38;5;124;43mweight_decay\u001b[39;49m\u001b[38;5;124;43m\"\u001b[39;49m\u001b[43m]\u001b[49m\u001b[43m,\u001b[49m\n\u001b[1;32m    196\u001b[0m \u001b[43m        \u001b[49m\u001b[43meps\u001b[49m\u001b[38;5;241;43m=\u001b[39;49m\u001b[43mgroup\u001b[49m\u001b[43m[\u001b[49m\u001b[38;5;124;43m\"\u001b[39;49m\u001b[38;5;124;43meps\u001b[39;49m\u001b[38;5;124;43m\"\u001b[39;49m\u001b[43m]\u001b[49m\u001b[43m,\u001b[49m\n\u001b[1;32m    197\u001b[0m \u001b[43m        \u001b[49m\u001b[43mmaximize\u001b[49m\u001b[38;5;241;43m=\u001b[39;49m\u001b[43mgroup\u001b[49m\u001b[43m[\u001b[49m\u001b[38;5;124;43m\"\u001b[39;49m\u001b[38;5;124;43mmaximize\u001b[39;49m\u001b[38;5;124;43m\"\u001b[39;49m\u001b[43m]\u001b[49m\u001b[43m,\u001b[49m\n\u001b[1;32m    198\u001b[0m \u001b[43m        \u001b[49m\u001b[43mforeach\u001b[49m\u001b[38;5;241;43m=\u001b[39;49m\u001b[43mgroup\u001b[49m\u001b[43m[\u001b[49m\u001b[38;5;124;43m\"\u001b[39;49m\u001b[38;5;124;43mforeach\u001b[39;49m\u001b[38;5;124;43m\"\u001b[39;49m\u001b[43m]\u001b[49m\u001b[43m,\u001b[49m\n\u001b[1;32m    199\u001b[0m \u001b[43m        \u001b[49m\u001b[43mcapturable\u001b[49m\u001b[38;5;241;43m=\u001b[39;49m\u001b[43mgroup\u001b[49m\u001b[43m[\u001b[49m\u001b[38;5;124;43m\"\u001b[39;49m\u001b[38;5;124;43mcapturable\u001b[39;49m\u001b[38;5;124;43m\"\u001b[39;49m\u001b[43m]\u001b[49m\u001b[43m,\u001b[49m\n\u001b[1;32m    200\u001b[0m \u001b[43m        \u001b[49m\u001b[43mdifferentiable\u001b[49m\u001b[38;5;241;43m=\u001b[39;49m\u001b[43mgroup\u001b[49m\u001b[43m[\u001b[49m\u001b[38;5;124;43m\"\u001b[39;49m\u001b[38;5;124;43mdifferentiable\u001b[39;49m\u001b[38;5;124;43m\"\u001b[39;49m\u001b[43m]\u001b[49m\u001b[43m,\u001b[49m\n\u001b[1;32m    201\u001b[0m \u001b[43m        \u001b[49m\u001b[43mfused\u001b[49m\u001b[38;5;241;43m=\u001b[39;49m\u001b[43mgroup\u001b[49m\u001b[43m[\u001b[49m\u001b[38;5;124;43m\"\u001b[39;49m\u001b[38;5;124;43mfused\u001b[39;49m\u001b[38;5;124;43m\"\u001b[39;49m\u001b[43m]\u001b[49m\u001b[43m,\u001b[49m\n\u001b[1;32m    202\u001b[0m \u001b[43m        \u001b[49m\u001b[43mgrad_scale\u001b[49m\u001b[38;5;241;43m=\u001b[39;49m\u001b[38;5;28;43mgetattr\u001b[39;49m\u001b[43m(\u001b[49m\u001b[38;5;28;43mself\u001b[39;49m\u001b[43m,\u001b[49m\u001b[43m \u001b[49m\u001b[38;5;124;43m\"\u001b[39;49m\u001b[38;5;124;43mgrad_scale\u001b[39;49m\u001b[38;5;124;43m\"\u001b[39;49m\u001b[43m,\u001b[49m\u001b[43m \u001b[49m\u001b[38;5;28;43;01mNone\u001b[39;49;00m\u001b[43m)\u001b[49m\u001b[43m,\u001b[49m\n\u001b[1;32m    203\u001b[0m \u001b[43m        \u001b[49m\u001b[43mfound_inf\u001b[49m\u001b[38;5;241;43m=\u001b[39;49m\u001b[38;5;28;43mgetattr\u001b[39;49m\u001b[43m(\u001b[49m\u001b[38;5;28;43mself\u001b[39;49m\u001b[43m,\u001b[49m\u001b[43m \u001b[49m\u001b[38;5;124;43m\"\u001b[39;49m\u001b[38;5;124;43mfound_inf\u001b[39;49m\u001b[38;5;124;43m\"\u001b[39;49m\u001b[43m,\u001b[49m\u001b[43m \u001b[49m\u001b[38;5;28;43;01mNone\u001b[39;49;00m\u001b[43m)\u001b[49m\u001b[43m,\u001b[49m\n\u001b[1;32m    204\u001b[0m \u001b[43m    \u001b[49m\u001b[43m)\u001b[49m\n\u001b[1;32m    206\u001b[0m \u001b[38;5;28;01mreturn\u001b[39;00m loss\n",
      "File \u001b[0;32m~/miniconda3/lib/python3.10/site-packages/torch/optim/adamw.py:335\u001b[0m, in \u001b[0;36madamw\u001b[0;34m(params, grads, exp_avgs, exp_avg_sqs, max_exp_avg_sqs, state_steps, foreach, capturable, differentiable, fused, grad_scale, found_inf, amsgrad, beta1, beta2, lr, weight_decay, eps, maximize)\u001b[0m\n\u001b[1;32m    332\u001b[0m \u001b[38;5;28;01melse\u001b[39;00m:\n\u001b[1;32m    333\u001b[0m     func \u001b[38;5;241m=\u001b[39m _single_tensor_adamw\n\u001b[0;32m--> 335\u001b[0m \u001b[43mfunc\u001b[49m\u001b[43m(\u001b[49m\n\u001b[1;32m    336\u001b[0m \u001b[43m    \u001b[49m\u001b[43mparams\u001b[49m\u001b[43m,\u001b[49m\n\u001b[1;32m    337\u001b[0m \u001b[43m    \u001b[49m\u001b[43mgrads\u001b[49m\u001b[43m,\u001b[49m\n\u001b[1;32m    338\u001b[0m \u001b[43m    \u001b[49m\u001b[43mexp_avgs\u001b[49m\u001b[43m,\u001b[49m\n\u001b[1;32m    339\u001b[0m \u001b[43m    \u001b[49m\u001b[43mexp_avg_sqs\u001b[49m\u001b[43m,\u001b[49m\n\u001b[1;32m    340\u001b[0m \u001b[43m    \u001b[49m\u001b[43mmax_exp_avg_sqs\u001b[49m\u001b[43m,\u001b[49m\n\u001b[1;32m    341\u001b[0m \u001b[43m    \u001b[49m\u001b[43mstate_steps\u001b[49m\u001b[43m,\u001b[49m\n\u001b[1;32m    342\u001b[0m \u001b[43m    \u001b[49m\u001b[43mamsgrad\u001b[49m\u001b[38;5;241;43m=\u001b[39;49m\u001b[43mamsgrad\u001b[49m\u001b[43m,\u001b[49m\n\u001b[1;32m    343\u001b[0m \u001b[43m    \u001b[49m\u001b[43mbeta1\u001b[49m\u001b[38;5;241;43m=\u001b[39;49m\u001b[43mbeta1\u001b[49m\u001b[43m,\u001b[49m\n\u001b[1;32m    344\u001b[0m \u001b[43m    \u001b[49m\u001b[43mbeta2\u001b[49m\u001b[38;5;241;43m=\u001b[39;49m\u001b[43mbeta2\u001b[49m\u001b[43m,\u001b[49m\n\u001b[1;32m    345\u001b[0m \u001b[43m    \u001b[49m\u001b[43mlr\u001b[49m\u001b[38;5;241;43m=\u001b[39;49m\u001b[43mlr\u001b[49m\u001b[43m,\u001b[49m\n\u001b[1;32m    346\u001b[0m \u001b[43m    \u001b[49m\u001b[43mweight_decay\u001b[49m\u001b[38;5;241;43m=\u001b[39;49m\u001b[43mweight_decay\u001b[49m\u001b[43m,\u001b[49m\n\u001b[1;32m    347\u001b[0m \u001b[43m    \u001b[49m\u001b[43meps\u001b[49m\u001b[38;5;241;43m=\u001b[39;49m\u001b[43meps\u001b[49m\u001b[43m,\u001b[49m\n\u001b[1;32m    348\u001b[0m \u001b[43m    \u001b[49m\u001b[43mmaximize\u001b[49m\u001b[38;5;241;43m=\u001b[39;49m\u001b[43mmaximize\u001b[49m\u001b[43m,\u001b[49m\n\u001b[1;32m    349\u001b[0m \u001b[43m    \u001b[49m\u001b[43mcapturable\u001b[49m\u001b[38;5;241;43m=\u001b[39;49m\u001b[43mcapturable\u001b[49m\u001b[43m,\u001b[49m\n\u001b[1;32m    350\u001b[0m \u001b[43m    \u001b[49m\u001b[43mdifferentiable\u001b[49m\u001b[38;5;241;43m=\u001b[39;49m\u001b[43mdifferentiable\u001b[49m\u001b[43m,\u001b[49m\n\u001b[1;32m    351\u001b[0m \u001b[43m    \u001b[49m\u001b[43mgrad_scale\u001b[49m\u001b[38;5;241;43m=\u001b[39;49m\u001b[43mgrad_scale\u001b[49m\u001b[43m,\u001b[49m\n\u001b[1;32m    352\u001b[0m \u001b[43m    \u001b[49m\u001b[43mfound_inf\u001b[49m\u001b[38;5;241;43m=\u001b[39;49m\u001b[43mfound_inf\u001b[49m\u001b[43m,\u001b[49m\n\u001b[1;32m    353\u001b[0m \u001b[43m\u001b[49m\u001b[43m)\u001b[49m\n",
      "File \u001b[0;32m~/miniconda3/lib/python3.10/site-packages/torch/optim/adamw.py:466\u001b[0m, in \u001b[0;36m_single_tensor_adamw\u001b[0;34m(params, grads, exp_avgs, exp_avg_sqs, max_exp_avg_sqs, state_steps, grad_scale, found_inf, amsgrad, beta1, beta2, lr, weight_decay, eps, maximize, capturable, differentiable)\u001b[0m\n\u001b[1;32m    463\u001b[0m     \u001b[38;5;28;01melse\u001b[39;00m:\n\u001b[1;32m    464\u001b[0m         denom \u001b[38;5;241m=\u001b[39m (exp_avg_sq\u001b[38;5;241m.\u001b[39msqrt() \u001b[38;5;241m/\u001b[39m bias_correction2_sqrt)\u001b[38;5;241m.\u001b[39madd_(eps)\n\u001b[0;32m--> 466\u001b[0m     \u001b[43mparam\u001b[49m\u001b[38;5;241;43m.\u001b[39;49m\u001b[43maddcdiv_\u001b[49m\u001b[43m(\u001b[49m\u001b[43mexp_avg\u001b[49m\u001b[43m,\u001b[49m\u001b[43m \u001b[49m\u001b[43mdenom\u001b[49m\u001b[43m,\u001b[49m\u001b[43m \u001b[49m\u001b[43mvalue\u001b[49m\u001b[38;5;241;43m=\u001b[39;49m\u001b[38;5;241;43m-\u001b[39;49m\u001b[43mstep_size\u001b[49m\u001b[43m)\u001b[49m\n\u001b[1;32m    468\u001b[0m \u001b[38;5;66;03m# Lastly, switch back to complex view\u001b[39;00m\n\u001b[1;32m    469\u001b[0m \u001b[38;5;28;01mif\u001b[39;00m amsgrad \u001b[38;5;129;01mand\u001b[39;00m torch\u001b[38;5;241m.\u001b[39mis_complex(params[i]):\n",
      "\u001b[0;31mKeyboardInterrupt\u001b[0m: "
     ]
    }
   ],
   "source": [
    "\n",
    "# Training loop\n",
    "num_epochs = 5\n",
    "for epoch in range(num_epochs):\n",
    "    model.train()\n",
    "    for batch in train_loader:\n",
    "        input_ids = batch['input_ids'].to(device)\n",
    "        attention_mask = batch['attention_mask'].to(device)\n",
    "        targets = batch['targets'].to(device)\n",
    "        \n",
    "        outputs = model(input_ids, attention_mask)\n",
    "        loss = criterion(outputs.squeeze(), targets)\n",
    "        \n",
    "        optimizer.zero_grad()\n",
    "        loss.backward()\n",
    "        optimizer.step()\n",
    "    \n",
    "    print(f'Epoch {epoch+1}/{num_epochs}, Loss: {loss.item():.4f}')\n"
   ]
  },
  {
   "cell_type": "code",
   "execution_count": null,
   "id": "98f8b45d-2a51-4b17-9b6a-14af04f02bec",
   "metadata": {},
   "outputs": [],
   "source": [
    "\n",
    "# Evaluation\n",
    "model.eval()\n",
    "predictions = []\n",
    "actual = []\n",
    "with torch.no_grad():\n",
    "    for batch in test_loader:\n",
    "        input_ids = batch['input_ids'].to(device)\n",
    "        attention_mask = batch['attention_mask'].to(device)\n",
    "        targets = batch['targets'].to(device)\n",
    "        \n",
    "        outputs = model(input_ids, attention_mask)\n",
    "        predictions.extend(outputs.cpu().numpy())\n",
    "        actual.extend(targets.cpu().numpy())\n",
    "\n",
    "# Calculate accuracy\n",
    "predictions = [1 if p > 0.5 else 0 for p in predictions]\n",
    "accuracy = sum([1 if p == a else 0 for p, a in zip(predictions, actual)]) / len(actual)\n",
    "print(f'Test Accuracy: {accuracy:.4f}')"
   ]
  }
 ],
 "metadata": {
  "kernelspec": {
   "display_name": "Python 3.9.6 64-bit",
   "language": "python",
   "name": "python3"
  },
  "language_info": {
   "codemirror_mode": {
    "name": "ipython",
    "version": 3
   },
   "file_extension": ".py",
   "mimetype": "text/x-python",
   "name": "python",
   "nbconvert_exporter": "python",
   "pygments_lexer": "ipython3",
   "version": "3.9.6"
  },
  "vscode": {
   "interpreter": {
    "hash": "31f2aee4e71d21fbe5cf8b01ff0e069b9275f58929596ceb00d14d90e3e16cd6"
   }
  }
 },
 "nbformat": 4,
 "nbformat_minor": 5
}
